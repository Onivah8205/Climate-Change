{
 "cells": [
  {
   "cell_type": "markdown",
   "metadata": {
    "deletable": true,
    "editable": true
   },
   "source": [
    "import matplotlib, numpy and csv"
   ]
  },
  {
   "cell_type": "code",
   "execution_count": 1,
   "metadata": {
    "collapsed": true,
    "deletable": true,
    "editable": true
   },
   "outputs": [],
   "source": [
    "import matplotlib.pyplot as plt\n",
    "import matplotlib.patches as mpatches\n",
    "import numpy as np\n",
    "import csv"
   ]
  },
  {
   "cell_type": "markdown",
   "metadata": {
    "deletable": true,
    "editable": true
   },
   "source": [
    "Open the data file, create a CSV reader, and convert it into a list using the list() function. Assigning a variable too."
   ]
  },
  {
   "cell_type": "code",
   "execution_count": 2,
   "metadata": {
    "collapsed": false,
    "deletable": true,
    "editable": true
   },
   "outputs": [],
   "source": [
    "csvFile = open(\"carbonmonoxide2017.csv\", 'r') \n",
    "csvReader = csv.reader(csvFile, delimiter=',')\n",
    "stringMatrix = list(csvReader)"
   ]
  },
  {
   "cell_type": "markdown",
   "metadata": {
    "deletable": true,
    "editable": true
   },
   "source": [
    "Creating an empty NumPy array to hold the pixel values. But first, find out the dimensions of the array. Creating one variable for the number of columns and one for the number of rows."
   ]
  },
  {
   "cell_type": "code",
   "execution_count": 3,
   "metadata": {
    "collapsed": false,
    "deletable": true,
    "editable": true
   },
   "outputs": [],
   "source": [
    "numCols = len(stringMatrix[0])\n",
    "numRows = len(stringMatrix)"
   ]
  },
  {
   "cell_type": "markdown",
   "metadata": {
    "deletable": true,
    "editable": true
   },
   "source": [
    "Creating an empty NumPy array with three dimensions: number of data rows, number of data columns, 3 (for the three values of each RGB color). Usingg dtype=np.uint8."
   ]
  },
  {
   "cell_type": "code",
   "execution_count": 4,
   "metadata": {
    "collapsed": true,
    "deletable": true,
    "editable": true
   },
   "outputs": [],
   "source": [
    "grid = np.empty([numRows, numCols, 3], dtype=np.uint8)"
   ]
  },
  {
   "cell_type": "markdown",
   "metadata": {
    "deletable": true,
    "editable": true
   },
   "source": [
    "Reseting the CSV reader to the start of the file"
   ]
  },
  {
   "cell_type": "code",
   "execution_count": 5,
   "metadata": {
    "collapsed": false,
    "deletable": true,
    "editable": true
   },
   "outputs": [
    {
     "data": {
      "text/plain": [
       "0"
      ]
     },
     "execution_count": 5,
     "metadata": {},
     "output_type": "execute_result"
    }
   ],
   "source": [
    "csvFile.seek(0)"
   ]
  },
  {
   "cell_type": "markdown",
   "metadata": {
    "deletable": true,
    "editable": true
   },
   "source": [
    "Iterate over the values in the CSV file and assign the proper color to the appropriate spot in the grid array (use your indexing skills!)."
   ]
  },
  {
   "cell_type": "code",
   "execution_count": 6,
   "metadata": {
    "collapsed": false,
    "deletable": true,
    "editable": true
   },
   "outputs": [],
   "source": [
    "emptylist = []\n",
    "rownum = -1\n",
    "emptylist = []\n",
    "rownum = -1\n",
    "for row in csvReader:\n",
    "    rownum += 1\n",
    "    colnum = -1\n",
    "    for value in row:\n",
    "        if float(value) != 99999.0:\n",
    "            emptylist.append(float(value))\n",
    "        colnum += 1\n",
    "        if float(value) <= 20.0:\n",
    "            grid[rownum, colnum] = [255, 255, 102]\n",
    "        elif float(value) <= 40.0:\n",
    "            grid[rownum, colnum] = [250, 230, 92]\n",
    "        elif float(value) <= 60.0:\n",
    "            grid[rownum, colnum] = [242, 191, 76]\n",
    "        elif float(value) <= 80.0:\n",
    "            grid[rownum, colnum] = [232, 140, 56]\n",
    "        elif float(value) <= 100.0:\n",
    "            grid[rownum, colnum] = [230, 128, 51]\n",
    "        elif float(value) <= 120.0:\n",
    "            grid[rownum, colnum] = [227, 115, 46]\n",
    "        elif float(value) <= 140.0:\n",
    "            grid[rownum, colnum] = [224, 102, 41]\n",
    "        elif float(value) <= 160.0:\n",
    "            grid[rownum, colnum] = [255, 102, 0]\n",
    "        elif float(value) <= 180.0:\n",
    "            grid[rownum, colnum] = [219, 77, 31]\n",
    "        elif float(value) <= 200.0:\n",
    "            grid[rownum, colnum] = [217, 64, 26]\n",
    "        elif float(value) <= 220.0:\n",
    "            grid[rownum, colnum] = [214, 51, 20]\n",
    "        elif float(value) <= 240.0:\n",
    "            grid[rownum, colnum] = [212, 38, 15]\n",
    "        elif float(value) <= 260.0:\n",
    "            grid[rownum, colnum] = [209, 25, 20]\n",
    "        elif float(value) <= 280.0:\n",
    "            grid[rownum, colnum] = [207, 13, 5]\n",
    "        elif float(value) <= 300.0:\n",
    "            grid[rownum, colnum] = [153, 0, 0]\n",
    "        else:\n",
    "            grid[rownum, colnum] = [0, 0, 0]\n",
    "            \n",
    "#print(emptylist)"
   ]
  },
  {
   "cell_type": "code",
   "execution_count": 7,
   "metadata": {
    "collapsed": false,
    "deletable": true,
    "editable": true
   },
   "outputs": [
    {
     "name": "stdout",
     "output_type": "stream",
     "text": [
      "300.0\n",
      "35.4\n"
     ]
    }
   ],
   "source": [
    "print(np.amax(np.array(emptylist)))\n",
    "print(np.amin(np.array(emptylist)))"
   ]
  },
  {
   "cell_type": "markdown",
   "metadata": {
    "deletable": true,
    "editable": true
   },
   "source": [
    "Close your CSV file"
   ]
  },
  {
   "cell_type": "code",
   "execution_count": 8,
   "metadata": {
    "collapsed": true,
    "deletable": true,
    "editable": true
   },
   "outputs": [],
   "source": [
    "#csvFile.close()"
   ]
  },
  {
   "cell_type": "markdown",
   "metadata": {
    "deletable": true,
    "editable": true
   },
   "source": [
    "Using plt.imshow() and plt.show() to make the plot."
   ]
  },
  {
   "cell_type": "code",
   "execution_count": 9,
   "metadata": {
    "collapsed": false,
    "deletable": true,
    "editable": true
   },
   "outputs": [
    {
     "data": {
      "image/png": "[encoded data removed]",
      "text/plain": [
       "<matplotlib.figure.Figure at 0x10fbb0a90>"
      ]
     },
     "metadata": {},
     "output_type": "display_data"
    }
   ],
   "source": [
    "plt.clf()\n",
    "plt.suptitle(\"Global Carbon Monoxide Levels in 2017 (PPBV)\", y=.92, x=.4)\n",
    "patchList = []\n",
    "patchList.append(mpatches.Patch(color=[255/255, 255/255, 102/255], label = \"0 <> 20\"))\n",
    "patchList.append(mpatches.Patch(color=[250/255, 230/255, 92/255], label = \"20 <> 40\"))\n",
    "patchList.append(mpatches.Patch(color=[242/255, 191/255, 76/255], label = \"40 <> 60\"))\n",
    "patchList.append(mpatches.Patch(color=[232/255, 140/255, 56/255], label = \"60 <> 80\"))\n",
    "patchList.append(mpatches.Patch(color=[230/255, 128/255, 52/255], label = \"80 <> 100\"))\n",
    "patchList.append(mpatches.Patch(color=[227/255, 115/255, 46/255], label = \"100 <> 120\"))\n",
    "patchList.append(mpatches.Patch(color=[224/255, 102/255, 41/255], label = \"120 <> 140\"))\n",
    "patchList.append(mpatches.Patch(color=[255/255, 102/255, 0/255], label = \"140 <> 160\"))\n",
    "patchList.append(mpatches.Patch(color=[219/255, 77/255, 31/255], label = \"160 <> 180\"))\n",
    "patchList.append(mpatches.Patch(color=[217/255, 64/255, 26/255], label = \"180 <> 200\"))\n",
    "patchList.append(mpatches.Patch(color=[214/255, 51/255, 20/255], label = \"200 <> 220\"))\n",
    "patchList.append(mpatches.Patch(color=[212/255, 38/255, 15/255], label = \"220 <> 240\"))\n",
    "patchList.append(mpatches.Patch(color=[209/255, 25/255, 20/255], label = \"240 <> 260\"))\n",
    "patchList.append(mpatches.Patch(color=[207/255, 13/255, 5/255], label = \"260 <> 280\"))\n",
    "patchList.append(mpatches.Patch(color=[153/255, 0/255, 0/255], label = \"280 <> 300\"))\n",
    "plt.legend(bbox_to_anchor=(-.195,1.05), loc = 2, borderaxespad=2, handles=patchList, fontsize = 6)\n",
    "plt.imshow(grid)\n",
    "plt.axis('off')\n",
    "plt.show()"
   ]
  },
  {
   "cell_type": "code",
   "execution_count": null,
   "metadata": {
    "collapsed": true,
    "deletable": true,
    "editable": true
   },
   "outputs": [],
   "source": []
  }
 ],
 "metadata": {
  "kernelspec": {
   "display_name": "Python 3",
   "language": "python",
   "name": "python3"
  },
  "language_info": {
   "codemirror_mode": {
    "name": "ipython",
    "version": 3
   },
   "file_extension": ".py",
   "mimetype": "text/x-python",
   "name": "python",
   "nbconvert_exporter": "python",
   "pygments_lexer": "ipython3",
   "version": "3.5.2"
  }
 },
 "nbformat": 4,
 "nbformat_minor": 2
}
